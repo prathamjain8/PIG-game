{
 "cells": [
  {
   "cell_type": "code",
   "execution_count": 1,
   "id": "733ea1e9",
   "metadata": {},
   "outputs": [],
   "source": [
    "import random"
   ]
  },
  {
   "cell_type": "code",
   "execution_count": null,
   "id": "e3de6dee",
   "metadata": {},
   "outputs": [
    {
     "name": "stdout",
     "output_type": "stream",
     "text": [
      "Enter the number of players (2-4): 1\n",
      "Must be between 2 - 4 players\n"
     ]
    }
   ],
   "source": [
    "def roll():          # function in python is reusable block of codeand we define it using def keyword\n",
    "    roll = random.randint(1, 6)   # it includes both the end points    \n",
    "    return roll\n",
    "\n",
    "# code for asking how many people wants to play\n",
    "while True:\n",
    "    players = input(\"Enter the number of players (2-4): \")\n",
    "    \n",
    "    if players.isdigit():    # .isdigit() tell us that the input is a number or not and give us a boolean value\n",
    "        players = int(players)\n",
    "        if 2 <= players <= 4:\n",
    "            break\n",
    "        else:\n",
    "            print(\"Must be between 2 - 4 players\")      \n",
    "    else:\n",
    "        print(\"Invalid, Try again.\")\n",
    "\n",
    "# code to store max_score to win and store the player scores in a list\n",
    "max_score = 50\n",
    "player_scores = [0 for i in range(players)]   #it is a list comprehcomprehension and it essentially puts 0 for every single player we have in the list initially\n",
    "\n",
    "\n",
    "# code for checking the maximum score and asking for the player to roll a diec or not and the below code only simulates 1 persons turn\n",
    "while max(player_scores) < max_score:   # max() will give us the maximum value from the list\n",
    "    for player_index in range(players):\n",
    "        print(\"\\nPlayer number\", player_index+1, \"turn has just started!\")\n",
    "        print(\"Your total score is:\", player_scores[player_index], \"\\n\")\n",
    "        current_score = 0\n",
    "\n",
    "        while True:\n",
    "            should_roll = input(\"Would you like to roll (y)? \")\n",
    "\n",
    "            if should_roll.lower() != 'y':\n",
    "                break\n",
    "\n",
    "            value = roll()\n",
    "\n",
    "            if value == 1:\n",
    "                current_score = 0\n",
    "                print(\"You rolled 1! Turn done!\")\n",
    "                break\n",
    "            else:\n",
    "                current_score += value\n",
    "                print(\"YOu rolled a:\", value)\n",
    "\n",
    "            print(\"Your score is:\", current_score)\n",
    "        \n",
    "        player_scores[player_index] += current_score\n",
    "        print(\"Your total socre is:\", player_scores[player_index])\n",
    "        \n",
    "max_score = max(player_scores)\n",
    "winning_idx = player_scores.index(max_score)\n",
    "print(\"Player number\", winning_idx + 1, \"is the winner with a score of:\", max_score)\n"
   ]
  },
  {
   "cell_type": "code",
   "execution_count": null,
   "id": "0dbdc9d9",
   "metadata": {},
   "outputs": [],
   "source": []
  }
 ],
 "metadata": {
  "kernelspec": {
   "display_name": "Python 3 (ipykernel)",
   "language": "python",
   "name": "python3"
  },
  "language_info": {
   "codemirror_mode": {
    "name": "ipython",
    "version": 3
   },
   "file_extension": ".py",
   "mimetype": "text/x-python",
   "name": "python",
   "nbconvert_exporter": "python",
   "pygments_lexer": "ipython3",
   "version": "3.11.5"
  }
 },
 "nbformat": 4,
 "nbformat_minor": 5
}
